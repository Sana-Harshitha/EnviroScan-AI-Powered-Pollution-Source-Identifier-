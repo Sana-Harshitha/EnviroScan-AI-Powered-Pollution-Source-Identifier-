{
  "cells": [
    {
      "cell_type": "markdown",
      "metadata": {
        "id": "view-in-github",
        "colab_type": "text"
      },
      "source": [
        "<a href=\"https://colab.research.google.com/github/Sana-Harshitha/EnviroScan-AI-Powered-Pollution-Source-Identifier-/blob/main/app.ipynb\" target=\"_parent\"><img src=\"https://colab.research.google.com/assets/colab-badge.svg\" alt=\"Open In Colab\"/></a>"
      ]
    },
    {
      "cell_type": "code",
      "execution_count": null,
      "metadata": {
        "id": "_IKu_R18NnBR"
      },
      "outputs": [],
      "source": []
    },
    {
      "cell_type": "markdown",
      "metadata": {
        "id": "xxWrGGbaNmfC"
      },
      "source": [
        "Data Collection"
      ]
    },
    {
      "cell_type": "code",
      "execution_count": null,
      "metadata": {
        "colab": {
          "base_uri": "https://localhost:8080/"
        },
        "id": "vXaWXf6oNBCh",
        "outputId": "ab14e1f9-6590-4deb-8e30-f15b0d1ff7af"
      },
      "outputs": [
        {
          "output_type": "stream",
          "name": "stdout",
          "text": [
            "Collecting osmnx\n",
            "  Downloading osmnx-2.0.6-py3-none-any.whl.metadata (4.9 kB)\n",
            "Requirement already satisfied: geopandas>=1.0.1 in /usr/local/lib/python3.12/dist-packages (from osmnx) (1.1.1)\n",
            "Requirement already satisfied: networkx>=2.5 in /usr/local/lib/python3.12/dist-packages (from osmnx) (3.5)\n",
            "Requirement already satisfied: numpy>=1.22 in /usr/local/lib/python3.12/dist-packages (from osmnx) (2.0.2)\n",
            "Requirement already satisfied: pandas>=1.4 in /usr/local/lib/python3.12/dist-packages (from osmnx) (2.2.2)\n",
            "Requirement already satisfied: requests>=2.27 in /usr/local/lib/python3.12/dist-packages (from osmnx) (2.32.4)\n",
            "Requirement already satisfied: shapely>=2.0 in /usr/local/lib/python3.12/dist-packages (from osmnx) (2.1.1)\n",
            "Requirement already satisfied: pyogrio>=0.7.2 in /usr/local/lib/python3.12/dist-packages (from geopandas>=1.0.1->osmnx) (0.11.1)\n",
            "Requirement already satisfied: packaging in /usr/local/lib/python3.12/dist-packages (from geopandas>=1.0.1->osmnx) (25.0)\n",
            "Requirement already satisfied: pyproj>=3.5.0 in /usr/local/lib/python3.12/dist-packages (from geopandas>=1.0.1->osmnx) (3.7.2)\n",
            "Requirement already satisfied: python-dateutil>=2.8.2 in /usr/local/lib/python3.12/dist-packages (from pandas>=1.4->osmnx) (2.9.0.post0)\n",
            "Requirement already satisfied: pytz>=2020.1 in /usr/local/lib/python3.12/dist-packages (from pandas>=1.4->osmnx) (2025.2)\n",
            "Requirement already satisfied: tzdata>=2022.7 in /usr/local/lib/python3.12/dist-packages (from pandas>=1.4->osmnx) (2025.2)\n",
            "Requirement already satisfied: charset_normalizer<4,>=2 in /usr/local/lib/python3.12/dist-packages (from requests>=2.27->osmnx) (3.4.3)\n",
            "Requirement already satisfied: idna<4,>=2.5 in /usr/local/lib/python3.12/dist-packages (from requests>=2.27->osmnx) (3.10)\n",
            "Requirement already satisfied: urllib3<3,>=1.21.1 in /usr/local/lib/python3.12/dist-packages (from requests>=2.27->osmnx) (2.5.0)\n",
            "Requirement already satisfied: certifi>=2017.4.17 in /usr/local/lib/python3.12/dist-packages (from requests>=2.27->osmnx) (2025.8.3)\n",
            "Requirement already satisfied: six>=1.5 in /usr/local/lib/python3.12/dist-packages (from python-dateutil>=2.8.2->pandas>=1.4->osmnx) (1.17.0)\n",
            "Downloading osmnx-2.0.6-py3-none-any.whl (101 kB)\n",
            "\u001b[2K   \u001b[90m━━━━━━━━━━━━━━━━━━━━━━━━━━━━━━━━━━━━━━━━\u001b[0m \u001b[32m101.5/101.5 kB\u001b[0m \u001b[31m2.7 MB/s\u001b[0m eta \u001b[36m0:00:00\u001b[0m\n",
            "\u001b[?25hInstalling collected packages: osmnx\n",
            "Successfully installed osmnx-2.0.6\n"
          ]
        }
      ],
      "source": [
        "!pip install osmnx"
      ]
    },
    {
      "cell_type": "code",
      "execution_count": null,
      "metadata": {
        "id": "hVbJzGC2N1d_"
      },
      "outputs": [],
      "source": [
        "import pandas as pd\n",
        "import osmnx as ox\n",
        "import requests"
      ]
    },
    {
      "cell_type": "code",
      "execution_count": null,
      "metadata": {
        "id": "LhG8-wKfOLz3"
      },
      "outputs": [],
      "source": [
        "def fetch_openaq_data(city , params ):\n",
        "  url = f\"https://api.openaq.org/v2/measurements?city={city}&parameter={params}\"\n",
        "  response = requests.get(url)\n",
        "  data = response.json()\n",
        "  return data\n",
        "\n",
        "def fetch_weather_api(lat , lon , api_key):\n",
        "  url =f\"https://api.openweathermap.org/data/2.5/weather\"\n",
        "  params = {'lat':lat , 'lon':lon , 'appid': api_key }\n",
        "  response = requests.get(url ,params = params)\n",
        "  return response.json()\n",
        "\n",
        "  def get_location_feature(lat,lon,dist=1000):\n",
        "    G = ox.graph_from_point((lat,lon),dist,network_type='drive')\n",
        "    roads = ox.geometries.geometries_from_point((lat,lon), tags={'highway': True},dist=dist)\n",
        "    factories = ox.geometries.geometries_from_point((lat,lon), tags={'landue': 'industrail'},dist=dist)\n",
        "    return {'roads':roads , 'factories':factories}"
      ]
    },
    {
      "cell_type": "code",
      "execution_count": null,
      "metadata": {
        "id": "BLucsfr2OoU5"
      },
      "outputs": [],
      "source": [
        "# city = \"Delhi\"\n",
        "# parameter = \"pm25\"\n",
        "# data = fetch_openaq_data(city, parameter)\n",
        "# print(data)"
      ]
    },
    {
      "cell_type": "code",
      "execution_count": null,
      "metadata": {
        "id": "VXviXDobZGnw"
      },
      "outputs": [],
      "source": [
        "def clean_pollution_data(df):\n",
        "  df = df.drop_duplicates()\n",
        "  df = df.dropna(subset=['value' , 'coordinates.latitude' , 'coordinates.longitude'])\n",
        "  df['value'] = pd.to_numeric(df['value'])\n",
        "  df['timestamp'] = pd.to_datatime(df['date']['utc'])\n",
        "  df = df.fillna(df.mean())\n",
        "  return df\n",
        "\n",
        "def feature_engineering(df):\n",
        "  for col in ['value']:\n",
        "    df[col] = (df[col] - df[col].mean() / df[col].std())\n",
        "\n",
        "  df['hour'] = df['timestamp'].dt.hour\n",
        "  df['day_of_week'] = df['timestamp'].dt.dayofweek\n",
        "  return df"
      ]
    },
    {
      "cell_type": "code",
      "execution_count": null,
      "metadata": {
        "id": "r8qEajbUZ-2i"
      },
      "outputs": [],
      "source": [
        "def label_source(df):\n",
        "  df['source'] = 'Unknown'\n",
        "  df.loc[(df['near_main_road']==1) & (df['NO2'] > 40 ),'source'] = 'vehicular'\n",
        "  df.loc[(df['near_factory']==1) & (df['SO2'] > 40 ),'source'] = 'Industrail'\n",
        "  df.loc[(df['near_farmland']==1) & (df['season'] == 'Dry' )& (df['!PH2.5'] >70 ),'source'] = 'Agriculture'\n",
        "\n",
        "  return df"
      ]
    },
    {
      "cell_type": "code",
      "execution_count": null,
      "metadata": {
        "id": "nl_CTQRCq5iG"
      },
      "outputs": [],
      "source": [
        "from sklearn.ensemble import RandomForestClassifier\n",
        "from sklearn.model_selection import train_test_split, GridSearchCV\n",
        "from sklearn.metrics import accuracy_score, classification_report\n",
        "\n",
        "def train_predict_model(df):\n",
        "  features = ['PM2.5','NO2','SO2','CO','road_proxitmity','factories_proximity','temperature','humidty','hour','dayofweek']\n",
        "  X = df[features]\n",
        "  y = df['source']\n",
        "  X_train , X_test , y_train , y_test = train_test_split(X,y,test_size=0.2 , stratify=y)\n",
        "  clf = RandomForestClassifier()\n",
        "  param_grid = {\n",
        "      'n_estimators':[50,100,200],\n",
        "      'max_depth':[None,10,20,30],\n",
        "      'min_samples_split':[2,5,10]\n",
        "  }\n",
        "  grid = GridSearchCV(clf , param_grid , cv=5)\n",
        "  grid.fit(X_train , y_train)\n",
        "  y_pred = grid.predict(X_test)\n",
        "\n",
        "  print(classification_report(y_test , y_pred))\n",
        "\n",
        "  return grid.best_estimator_"
      ]
    },
    {
      "cell_type": "code",
      "execution_count": null,
      "metadata": {
        "id": "d5mNhvfbPgQv"
      },
      "outputs": [],
      "source": [
        "import folium\n",
        "\n",
        "def plot_heatmap(df):\n",
        "    m = folium.Map(location=[df['latitude'].mean(), df['longitude'].mean()], zoom_start=12)\n",
        "    for _, row in df.iterrows():\n",
        "        folium.Circle(\n",
        "            location=[row['latitude'], row['longitude']],\n",
        "            radius=50,\n",
        "            color=\"red\" if row['source'] == \"Industrial\" else \"blue\",\n",
        "            fill=True\n",
        "        ).add_to(m)\n",
        "    return m\n"
      ]
    },
    {
      "cell_type": "code",
      "execution_count": null,
      "metadata": {
        "colab": {
          "base_uri": "https://localhost:8080/"
        },
        "id": "hjZQ9XolRO5A",
        "outputId": "958c66cc-efd9-4ac7-e302-c2f99e02606c"
      },
      "outputs": [
        {
          "output_type": "stream",
          "name": "stdout",
          "text": [
            "Collecting streamlit\n",
            "  Downloading streamlit-1.49.1-py3-none-any.whl.metadata (9.5 kB)\n",
            "Requirement already satisfied: altair!=5.4.0,!=5.4.1,<6,>=4.0 in /usr/local/lib/python3.12/dist-packages (from streamlit) (5.5.0)\n",
            "Requirement already satisfied: blinker<2,>=1.5.0 in /usr/local/lib/python3.12/dist-packages (from streamlit) (1.9.0)\n",
            "Requirement already satisfied: cachetools<7,>=4.0 in /usr/local/lib/python3.12/dist-packages (from streamlit) (5.5.2)\n",
            "Requirement already satisfied: click<9,>=7.0 in /usr/local/lib/python3.12/dist-packages (from streamlit) (8.2.1)\n",
            "Requirement already satisfied: numpy<3,>=1.23 in /usr/local/lib/python3.12/dist-packages (from streamlit) (2.0.2)\n",
            "Requirement already satisfied: packaging<26,>=20 in /usr/local/lib/python3.12/dist-packages (from streamlit) (25.0)\n",
            "Requirement already satisfied: pandas<3,>=1.4.0 in /usr/local/lib/python3.12/dist-packages (from streamlit) (2.2.2)\n",
            "Requirement already satisfied: pillow<12,>=7.1.0 in /usr/local/lib/python3.12/dist-packages (from streamlit) (11.3.0)\n",
            "Requirement already satisfied: protobuf<7,>=3.20 in /usr/local/lib/python3.12/dist-packages (from streamlit) (5.29.5)\n",
            "Requirement already satisfied: pyarrow>=7.0 in /usr/local/lib/python3.12/dist-packages (from streamlit) (18.1.0)\n",
            "Requirement already satisfied: requests<3,>=2.27 in /usr/local/lib/python3.12/dist-packages (from streamlit) (2.32.4)\n",
            "Requirement already satisfied: tenacity<10,>=8.1.0 in /usr/local/lib/python3.12/dist-packages (from streamlit) (8.5.0)\n",
            "Requirement already satisfied: toml<2,>=0.10.1 in /usr/local/lib/python3.12/dist-packages (from streamlit) (0.10.2)\n",
            "Requirement already satisfied: typing-extensions<5,>=4.4.0 in /usr/local/lib/python3.12/dist-packages (from streamlit) (4.15.0)\n",
            "Requirement already satisfied: watchdog<7,>=2.1.5 in /usr/local/lib/python3.12/dist-packages (from streamlit) (6.0.0)\n",
            "Requirement already satisfied: gitpython!=3.1.19,<4,>=3.0.7 in /usr/local/lib/python3.12/dist-packages (from streamlit) (3.1.45)\n",
            "Collecting pydeck<1,>=0.8.0b4 (from streamlit)\n",
            "  Downloading pydeck-0.9.1-py2.py3-none-any.whl.metadata (4.1 kB)\n",
            "Requirement already satisfied: tornado!=6.5.0,<7,>=6.0.3 in /usr/local/lib/python3.12/dist-packages (from streamlit) (6.4.2)\n",
            "Requirement already satisfied: jinja2 in /usr/local/lib/python3.12/dist-packages (from altair!=5.4.0,!=5.4.1,<6,>=4.0->streamlit) (3.1.6)\n",
            "Requirement already satisfied: jsonschema>=3.0 in /usr/local/lib/python3.12/dist-packages (from altair!=5.4.0,!=5.4.1,<6,>=4.0->streamlit) (4.25.1)\n",
            "Requirement already satisfied: narwhals>=1.14.2 in /usr/local/lib/python3.12/dist-packages (from altair!=5.4.0,!=5.4.1,<6,>=4.0->streamlit) (2.3.0)\n",
            "Requirement already satisfied: gitdb<5,>=4.0.1 in /usr/local/lib/python3.12/dist-packages (from gitpython!=3.1.19,<4,>=3.0.7->streamlit) (4.0.12)\n",
            "Requirement already satisfied: python-dateutil>=2.8.2 in /usr/local/lib/python3.12/dist-packages (from pandas<3,>=1.4.0->streamlit) (2.9.0.post0)\n",
            "Requirement already satisfied: pytz>=2020.1 in /usr/local/lib/python3.12/dist-packages (from pandas<3,>=1.4.0->streamlit) (2025.2)\n",
            "Requirement already satisfied: tzdata>=2022.7 in /usr/local/lib/python3.12/dist-packages (from pandas<3,>=1.4.0->streamlit) (2025.2)\n",
            "Requirement already satisfied: charset_normalizer<4,>=2 in /usr/local/lib/python3.12/dist-packages (from requests<3,>=2.27->streamlit) (3.4.3)\n",
            "Requirement already satisfied: idna<4,>=2.5 in /usr/local/lib/python3.12/dist-packages (from requests<3,>=2.27->streamlit) (3.10)\n",
            "Requirement already satisfied: urllib3<3,>=1.21.1 in /usr/local/lib/python3.12/dist-packages (from requests<3,>=2.27->streamlit) (2.5.0)\n",
            "Requirement already satisfied: certifi>=2017.4.17 in /usr/local/lib/python3.12/dist-packages (from requests<3,>=2.27->streamlit) (2025.8.3)\n",
            "Requirement already satisfied: smmap<6,>=3.0.1 in /usr/local/lib/python3.12/dist-packages (from gitdb<5,>=4.0.1->gitpython!=3.1.19,<4,>=3.0.7->streamlit) (5.0.2)\n",
            "Requirement already satisfied: MarkupSafe>=2.0 in /usr/local/lib/python3.12/dist-packages (from jinja2->altair!=5.4.0,!=5.4.1,<6,>=4.0->streamlit) (3.0.2)\n",
            "Requirement already satisfied: attrs>=22.2.0 in /usr/local/lib/python3.12/dist-packages (from jsonschema>=3.0->altair!=5.4.0,!=5.4.1,<6,>=4.0->streamlit) (25.3.0)\n",
            "Requirement already satisfied: jsonschema-specifications>=2023.03.6 in /usr/local/lib/python3.12/dist-packages (from jsonschema>=3.0->altair!=5.4.0,!=5.4.1,<6,>=4.0->streamlit) (2025.4.1)\n",
            "Requirement already satisfied: referencing>=0.28.4 in /usr/local/lib/python3.12/dist-packages (from jsonschema>=3.0->altair!=5.4.0,!=5.4.1,<6,>=4.0->streamlit) (0.36.2)\n",
            "Requirement already satisfied: rpds-py>=0.7.1 in /usr/local/lib/python3.12/dist-packages (from jsonschema>=3.0->altair!=5.4.0,!=5.4.1,<6,>=4.0->streamlit) (0.27.1)\n",
            "Requirement already satisfied: six>=1.5 in /usr/local/lib/python3.12/dist-packages (from python-dateutil>=2.8.2->pandas<3,>=1.4.0->streamlit) (1.17.0)\n",
            "Downloading streamlit-1.49.1-py3-none-any.whl (10.0 MB)\n",
            "\u001b[2K   \u001b[90m━━━━━━━━━━━━━━━━━━━━━━━━━━━━━━━━━━━━━━━━\u001b[0m \u001b[32m10.0/10.0 MB\u001b[0m \u001b[31m70.7 MB/s\u001b[0m eta \u001b[36m0:00:00\u001b[0m\n",
            "\u001b[?25hDownloading pydeck-0.9.1-py2.py3-none-any.whl (6.9 MB)\n",
            "\u001b[2K   \u001b[90m━━━━━━━━━━━━━━━━━━━━━━━━━━━━━━━━━━━━━━━━\u001b[0m \u001b[32m6.9/6.9 MB\u001b[0m \u001b[31m123.7 MB/s\u001b[0m eta \u001b[36m0:00:00\u001b[0m\n",
            "\u001b[?25hInstalling collected packages: pydeck, streamlit\n",
            "Successfully installed pydeck-0.9.1 streamlit-1.49.1\n",
            "Collecting pyngrok\n",
            "  Downloading pyngrok-7.3.0-py3-none-any.whl.metadata (8.1 kB)\n",
            "Requirement already satisfied: PyYAML>=5.1 in /usr/local/lib/python3.12/dist-packages (from pyngrok) (6.0.2)\n",
            "Downloading pyngrok-7.3.0-py3-none-any.whl (25 kB)\n",
            "Installing collected packages: pyngrok\n",
            "Successfully installed pyngrok-7.3.0\n"
          ]
        }
      ],
      "source": [
        "!pip install streamlit\n",
        "!pip install pyngrok\n",
        "\n",
        "!pip install -q streamlit pyngrok\n"
      ]
    },
    {
      "cell_type": "code",
      "execution_count": null,
      "metadata": {
        "colab": {
          "base_uri": "https://localhost:8080/"
        },
        "id": "TLL0qcEJ0XLA",
        "outputId": "4ae4a1f3-0d4e-4417-a7fa-d28d8bc690d8"
      },
      "outputs": [
        {
          "output_type": "stream",
          "name": "stdout",
          "text": [
            "Writing app.py\n"
          ]
        }
      ],
      "source": [
        "%%writefile app.py\n",
        "import streamlit as st\n",
        "\n",
        "st.set_page_config(page_title=\"Pollution Source Identifier\")\n",
        "\n",
        "st.title(\" AI-Powered Pollution Source Identifier\")\n",
        "\n",
        "city = st.text_input(\"Enter a city name\", placeholder=\"e.g., Delhi\")\n",
        "\n",
        " if st.button(\"Analyze\"):\n",
        "    if city.strip() == \"\":\n",
        "        st.warning(\" Please enter a valid city name.\")\n",
        "    else:\n",
        "        st.success(f\"Analyzing pollution sources for: {city}\")\n",
        "        st.markdown(f\"\"\"\n",
        "        ###  AI Analysis Results for **{city}** (Simulated)\n",
        "        - **Main Pollutants:** PM2.5, NOx, SO2\n",
        "        - **Likely Sources:**\n",
        "            -  Vehicle emissions\n",
        "            - Industrial activity\n",
        "            -  Biomass/garbage burning\n",
        "        - **Air Quality Index (AQI):** 185 (Unhealthy)\n",
        "        - **Recommendation:** Limit outdoor activity. Use masks. Air purifiers recommended indoors.\n",
        "        \"\"\")"
      ]
    },
    {
      "cell_type": "code",
      "execution_count": null,
      "metadata": {
        "colab": {
          "base_uri": "https://localhost:8080/"
        },
        "id": "MXoO36N8J6w-",
        "outputId": "69e38fee-0f06-4b52-f1fe-7acbae99f283"
      },
      "outputs": [
        {
          "output_type": "stream",
          "name": "stdout",
          "text": [
            "🌐 Your Streamlit app is live at: NgrokTunnel: \"https://58502a92a341.ngrok-free.app\" -> \"http://localhost:8501\"\n"
          ]
        }
      ],
      "source": [
        "# ✅ Step 1: Install required packages\n",
        "!pip install pyngrok streamlit --quiet\n",
        "\n",
        "# ✅ Step 2: Import necessary libraries\n",
        "from pyngrok import ngrok\n",
        "import time\n",
        "import os\n",
        "\n",
        "# ✅ Step 3: Export your ngrok authtoken (this sets an environment variable)\n",
        "os.environ[\"NGROK_AUTHTOKEN\"] =  \"32Sq7u2EUMJ9812imkfYcDb8Ak1_w8EoNXvS2mnwzExxkzyh\"\n",
        "\n",
        "# ✅ Step 4: Authenticate pyngrok using the exported token\n",
        "ngrok.set_auth_token(os.environ[\"NGROK_AUTHTOKEN\"])\n",
        "\n",
        "# ✅ Step 5: Kill any existing Streamlit process\n",
        "!pkill streamlit\n",
        "\n",
        "# ✅ Step 6: Define your Streamlit app code\n",
        "app_code = '''\n",
        "import streamlit as st\n",
        "\n",
        "st.set_page_config(page_title=\"Streamlit via ngrok\", page_icon=\"🔗\")\n",
        "st.title(\"🚀 Hello from Streamlit!\")\n",
        "st.write(\"This Streamlit app is running through an ngrok tunnel.\")\n",
        "'''\n",
        "\n",
        "# ✅ Step 7: Write app code to a file\n",
        "with open(\"app.py\", \"w\") as f:\n",
        "    f.write(app_code)\n",
        "\n",
        "# ✅ Step 8: Start the Streamlit app in the background\n",
        "!streamlit run app.py &> /content/logs.txt &\n",
        "\n",
        "# ✅ Step 9: Wait a few seconds for the app to boot\n",
        "time.sleep(5)\n",
        "\n",
        "# ✅ Step 10: Open an ngrok tunnel to port 8501\n",
        "public_url = ngrok.connect(8501)\n",
        "\n",
        "# ✅ Step 11: Print the public URL\n",
        "print(\"🌐 Your Streamlit app is live at:\", public_url)\n"
      ]
    },
    {
      "cell_type": "code",
      "execution_count": null,
      "metadata": {
        "colab": {
          "base_uri": "https://localhost:8080/"
        },
        "id": "0OiOibBsKaqu",
        "outputId": "18514b89-54d5-4a0a-8708-9976d325d3fa"
      },
      "outputs": [
        {
          "output_type": "stream",
          "name": "stdout",
          "text": [
            "🌐 Your Streamlit app is live here: NgrokTunnel: \"https://0a6601dff2f9.ngrok-free.app\" -> \"http://localhost:8501\"\n"
          ]
        }
      ],
      "source": [
        "# Start Streamlit in background\n",
        "!streamlit run app.py &> /content/logs.txt &\n",
        "\n",
        "# Give more time for Streamlit to start (e.g., 15 seconds)\n",
        "import time\n",
        "time.sleep(15)\n",
        "\n",
        "# Then create ngrok tunnel\n",
        "from pyngrok import ngrok\n",
        "public_url = ngrok.connect(8501)\n",
        "print(\"🌐 Your Streamlit app is live here:\", public_url)\n"
      ]
    },
    {
      "cell_type": "code",
      "execution_count": null,
      "metadata": {
        "colab": {
          "background_save": true,
          "base_uri": "https://localhost:8080/"
        },
        "id": "lREsDyR3bDps",
        "outputId": "51fb52ff-0687-49df-9cc0-aff28a52caf0"
      },
      "outputs": [
        {
          "metadata": {
            "tags": null
          },
          "name": "stderr",
          "output_type": "stream",
          "text": [
            "WARNING:pyngrok.process.ngrok:t=2025-09-10T12:55:18+0000 lvl=warn msg=\"Stopping forwarder\" name=http-8501-1fcb5859-1e6f-47f5-ae6f-c7c695fb195a acceptErr=\"failed to accept connection: Listener closed\"\n",
            "WARNING:pyngrok.process.ngrok:t=2025-09-10T12:55:18+0000 lvl=warn msg=\"Stopping forwarder\" name=http-8501-c35d4741-a402-456b-b2d9-e1f890adeb10 acceptErr=\"failed to accept connection: Listener closed\"\n"
          ]
        },
        {
          "metadata": {
            "tags": null
          },
          "name": "stdout",
          "output_type": "stream",
          "text": [
            "🌐 Your Streamlit app is live at: NgrokTunnel: \"https://6bfca0e96310.ngrok-free.app\" -> \"http://localhost:8501\"\n"
          ]
        }
      ],
      "source": [
        "# Install required packages (run once)\n",
        "!pip install --quiet streamlit pyngrok\n",
        "\n",
        "import os\n",
        "import time\n",
        "import subprocess\n",
        "from pyngrok import ngrok\n",
        "\n",
        "# Set your ngrok auth token (replace with your actual token)\n",
        "NGROK_AUTH_TOKEN = \"32Sq7u2EUMJ9812imkfYcDb8Ak1_w8EoNXvS2mnwzExxkzyh\"\n",
        "ngrok.set_auth_token(NGROK_AUTH_TOKEN)\n",
        "\n",
        "# Write a simple Streamlit app\n",
        "app_code = \"\"\"\n",
        "import streamlit as st\n",
        "\n",
        "st.title(\"🚀 EnviroScan Pollution Source Identifier\")\n",
        "\n",
        "city = st.text_input(\"Enter a city name\", \"Delhi\")\n",
        "if st.button(\"Analyze\"):\n",
        "    if not city.strip():\n",
        "        st.warning(\"Please enter a valid city name.\")\n",
        "    else:\n",
        "        st.success(f\"Analyzing pollution sources for: {city}\")\n",
        "        st.markdown('''\n",
        "        ### AI Analysis Results for **{city}** (Simulated)\n",
        "        - **Main Pollutants:** PM2.5, NOx, SO2\n",
        "        - **Likely Sources:**\n",
        "          - Vehicle emissions\n",
        "          - Industrial activity\n",
        "          - Biomass/garbage burning\n",
        "        - **Air Quality Index (AQI):** 185 (Unhealthy)\n",
        "        - **Recommendation:** Limit outdoor activity. Use masks. Air purifiers recommended indoors.\n",
        "        '''.format(city=city))\n",
        "\"\"\"\n",
        "\n",
        "with open(\"app.py\", \"w\") as f:\n",
        "    f.write(app_code)\n",
        "\n",
        "# Kill previous Streamlit instances\n",
        "subprocess.run([\"pkill\", \"-f\", \"streamlit\"], stdout=subprocess.DEVNULL, stderr=subprocess.DEVNULL)\n",
        "\n",
        "# Disconnect any existing ngrok tunnels to avoid free-tier limits\n",
        "for tunnel in ngrok.get_tunnels():\n",
        "    ngrok.disconnect(tunnel.public_url)\n",
        "\n",
        "# Start Streamlit app in the background\n",
        "streamlit_process = subprocess.Popen([\"streamlit\", \"run\", \"app.py\"])\n",
        "\n",
        "# Wait for Streamlit server to start\n",
        "time.sleep(15)  # Increase if needed\n",
        "\n",
        "# Open ngrok tunnel to port 8501\n",
        "public_url = ngrok.connect(8501)\n",
        "print(f\"🌐 Your Streamlit app is live at: {public_url}\")\n",
        "\n",
        "# Keep process alive to maintain server & tunnel\n",
        "try:\n",
        "    streamlit_process.wait()\n",
        "except KeyboardInterrupt:\n",
        "    streamlit_process.terminate()\n",
        "    ngrok.disconnect(public_url)\n",
        "    print(\"Terminated Streamlit and ngrok tunnel.\")\n"
      ]
    },
    {
      "cell_type": "code",
      "execution_count": null,
      "metadata": {
        "id": "lYF2khO7dM5x"
      },
      "outputs": [],
      "source": []
    }
  ],
  "metadata": {
    "colab": {
      "provenance": [],
      "authorship_tag": "ABX9TyN5n1Hf33hCIBYFu/3J1czO",
      "include_colab_link": true
    },
    "kernelspec": {
      "display_name": "Python 3",
      "name": "python3"
    },
    "language_info": {
      "name": "python"
    }
  },
  "nbformat": 4,
  "nbformat_minor": 0
}